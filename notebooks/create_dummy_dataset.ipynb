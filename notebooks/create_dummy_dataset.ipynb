{
 "cells": [
  {
   "cell_type": "code",
   "execution_count": null,
   "id": "dba7c993-1e76-4c36-87be-f2f839cab34e",
   "metadata": {},
   "outputs": [],
   "source": [
    "import json\n",
    "import os\n",
    "import shutil"
   ]
  },
  {
   "cell_type": "code",
   "execution_count": null,
   "id": "1ec645fd-998e-416d-ba4d-62333ada549a",
   "metadata": {},
   "outputs": [],
   "source": [
    "data_path = '/Users/vlad/SSBM/Replays/'\n",
    "data_dir = os.path.join(data_path, 'Parsed')\n",
    "meta_path = os.path.join(data_path, 'meta.json')"
   ]
  },
  {
   "cell_type": "code",
   "execution_count": null,
   "id": "1e914232-4eed-4f85-a175-1320a44c70c5",
   "metadata": {},
   "outputs": [],
   "source": [
    "output_path = '../data/toy_dataset'"
   ]
  },
  {
   "cell_type": "code",
   "execution_count": null,
   "id": "4c6cde60-6d5f-49d8-86a1-5fe422abea18",
   "metadata": {},
   "outputs": [],
   "source": [
    "with open(meta_path) as f:\n",
    "    metadata = json.load(f)"
   ]
  },
  {
   "cell_type": "code",
   "execution_count": null,
   "id": "5e8d5331-4747-4df9-ab90-7efa2d1fe4d7",
   "metadata": {},
   "outputs": [],
   "source": [
    "dataset_size = 1\n",
    "\n",
    "ranked_metas = [meta for meta in metadata if meta['raw'].startswith('Ranked')]\n",
    "sorted_metas = sorted(ranked_metas, key=lambda meta: meta['pq_size'])\n",
    "toy_metadata = sorted_metas[:dataset_size]\n",
    "\n",
    "output_data_dir = os.path.join(output_path, 'games')\n",
    "os.makedirs(output_data_dir, exist_ok=True)\n",
    "\n",
    "for meta in toy_metadata:\n",
    "    name = meta['slp_md5']\n",
    "    src = os.path.join(data_dir, name)\n",
    "    dst = os.path.join(output_data_dir, name)\n",
    "    shutil.copy(src, dst)\n",
    "\n",
    "output_meta_path = os.path.join(output_path, 'meta.json')\n",
    "with open(output_meta_path, 'w') as f:\n",
    "    json.dump(toy_metadata, f)"
   ]
  }
 ],
 "metadata": {
  "kernelspec": {
   "display_name": "Python 3 (ipykernel)",
   "language": "python",
   "name": "python3"
  },
  "language_info": {
   "codemirror_mode": {
    "name": "ipython",
    "version": 3
   },
   "file_extension": ".py",
   "mimetype": "text/x-python",
   "name": "python",
   "nbconvert_exporter": "python",
   "pygments_lexer": "ipython3",
   "version": "3.9.13"
  }
 },
 "nbformat": 4,
 "nbformat_minor": 5
}
