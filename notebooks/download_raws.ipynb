{
 "cells": [
  {
   "cell_type": "code",
   "execution_count": null,
   "id": "0832a0da",
   "metadata": {},
   "outputs": [],
   "source": [
    "import os\n",
    "import pandas as pd\n",
    "from slippi_db import upload_lib\n",
    "import tqdm"
   ]
  },
  {
   "cell_type": "code",
   "execution_count": null,
   "id": "d38dd9e6",
   "metadata": {},
   "outputs": [],
   "source": [
    "from itables import init_notebook_mode\n",
    "init_notebook_mode(all_interactive=True)"
   ]
  },
  {
   "cell_type": "code",
   "execution_count": null,
   "id": "98b62ea6",
   "metadata": {},
   "outputs": [],
   "source": [
    "prod_raw = list(upload_lib.get_db('prod', 'raw').find())\n",
    "prod_raw_df = pd.DataFrame(prod_raw)"
   ]
  },
  {
   "cell_type": "code",
   "execution_count": null,
   "id": "bd7d018a",
   "metadata": {},
   "outputs": [],
   "source": [
    "prod_raw_df['description'].value_counts()"
   ]
  },
  {
   "cell_type": "code",
   "execution_count": null,
   "id": "ce25a0ce",
   "metadata": {},
   "outputs": [],
   "source": [
    "nikki = prod_raw_df[prod_raw_df['description'] == \"Nikki's OneDrive\"]\n",
    "len(nikki)"
   ]
  },
  {
   "cell_type": "code",
   "execution_count": null,
   "id": "b7cd7be4",
   "metadata": {},
   "outputs": [],
   "source": [
    "destination = '/Users/vlad/SSBM/Replays/Tournaments/'"
   ]
  },
  {
   "cell_type": "code",
   "execution_count": null,
   "id": "a4bec993",
   "metadata": {},
   "outputs": [],
   "source": [
    "for _, row in tqdm.notebook.twdm(nikki.iterrows(), total=len(nikki)):\n",
    "    raw_key = row['key']\n",
    "    raw_s3_path = f'prod/raw/{raw_key}'\n",
    "    raw_name = row['filename']\n",
    "    path = os.path.join(destination, raw_name)\n",
    "    upload_lib.bucket.download_file(raw_s3_path, path)"
   ]
  },
  {
   "cell_type": "code",
   "execution_count": null,
   "id": "40cd7d64",
   "metadata": {},
   "outputs": [],
   "source": [
    "upload_lib.bucket.download_file?"
   ]
  },
  {
   "cell_type": "code",
   "execution_count": null,
   "id": "0fe9d11c",
   "metadata": {},
   "outputs": [],
   "source": []
  },
  {
   "cell_type": "code",
   "execution_count": null,
   "id": "7bc692f8",
   "metadata": {},
   "outputs": [],
   "source": [
    "  raw_s3_path = f'{env}/raw/{raw_key}'\n",
    "  with upload_lib.Timer(f\"download {raw_name}\"):\n",
    "    bucket.download_fileobj(raw_s3_path, raw_file)\n"
   ]
  },
  {
   "cell_type": "code",
   "execution_count": null,
   "id": "3ea69c8b",
   "metadata": {},
   "outputs": [],
   "source": []
  }
 ],
 "metadata": {
  "kernelspec": {
   "display_name": "Python 3 (ipykernel)",
   "language": "python",
   "name": "python3"
  },
  "language_info": {
   "codemirror_mode": {
    "name": "ipython",
    "version": 3
   },
   "file_extension": ".py",
   "mimetype": "text/x-python",
   "name": "python",
   "nbconvert_exporter": "python",
   "pygments_lexer": "ipython3",
   "version": "3.9.15"
  }
 },
 "nbformat": 4,
 "nbformat_minor": 5
}
