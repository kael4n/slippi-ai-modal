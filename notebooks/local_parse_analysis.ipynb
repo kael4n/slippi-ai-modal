{
 "cells": [
  {
   "cell_type": "code",
   "execution_count": null,
   "id": "fdf8d3ec-6440-4635-9718-4239a6075991",
   "metadata": {},
   "outputs": [],
   "source": [
    "import pickle\n",
    "import pandas as pd\n",
    "import os\n",
    "import peppi_py\n",
    "import tree\n",
    "import json\n",
    "import io\n",
    "import math\n",
    "import tqdm\n",
    "import functools\n",
    "\n",
    "from slippi_db import utils, preprocessing, parse_peppi"
   ]
  },
  {
   "cell_type": "code",
   "execution_count": null,
   "id": "93ca83d0-1b9b-4206-8926-e9349a7879ba",
   "metadata": {},
   "outputs": [],
   "source": [
    "from itables import init_notebook_mode\n",
    "init_notebook_mode(all_interactive=True)"
   ]
  },
  {
   "cell_type": "code",
   "execution_count": null,
   "id": "1d99dea6-c23d-466c-9a71-137a97557f0a",
   "metadata": {},
   "outputs": [],
   "source": [
    "root = '/Users/vlad/SSBM/Replays/'"
   ]
  },
  {
   "cell_type": "code",
   "execution_count": null,
   "id": "096ab2e6-592a-4119-9fa3-17d9469a7d48",
   "metadata": {},
   "outputs": [],
   "source": [
    "parsed_path = os.path.join(root, 'parsed.pkl')\n",
    "\n",
    "with open(parsed_path, 'rb') as f:\n",
    "    data_bytes = f.read()\n",
    "len(data_bytes)"
   ]
  },
  {
   "cell_type": "code",
   "execution_count": null,
   "id": "6b0efa52-4dba-49f1-9028-9948df6617a3",
   "metadata": {},
   "outputs": [],
   "source": [
    "%%time\n",
    "data = pickle.loads(data_bytes)\n",
    "del data_bytes\n",
    "len(data)"
   ]
  },
  {
   "cell_type": "code",
   "execution_count": null,
   "id": "77b5bdb8-452d-4129-a00f-96c34790d4ea",
   "metadata": {},
   "outputs": [],
   "source": [
    "# %%time\n",
    "# data_json = json.dumps(data)\n",
    "# len(data_json)"
   ]
  },
  {
   "cell_type": "code",
   "execution_count": null,
   "id": "e8e05316-b3d7-4c60-8657-4c3b63ddfdae",
   "metadata": {},
   "outputs": [],
   "source": [
    "# %%time\n",
    "# json.loads(data_json);"
   ]
  },
  {
   "cell_type": "code",
   "execution_count": null,
   "id": "b500fc91-8d4c-4164-affd-864710bb5d8a",
   "metadata": {},
   "outputs": [],
   "source": [
    "df = pd.DataFrame(data)"
   ]
  },
  {
   "cell_type": "code",
   "execution_count": null,
   "id": "643354bf-c04c-45be-9096-2ccbb48d22d7",
   "metadata": {},
   "outputs": [],
   "source": [
    "@functools.cache\n",
    "def compact_raw(raw: str) -> str:\n",
    "    if 'Mango' in raw:\n",
    "        return 'Mango'\n",
    "    if raw.startswith('Players/'):\n",
    "        return raw.split('/')[1]\n",
    "    return raw\n",
    "\n",
    "df['compact_raw'] = df['raw'].map(compact_raw)"
   ]
  },
  {
   "cell_type": "code",
   "execution_count": null,
   "id": "087d5d29-b379-46d4-84d2-4a18c9760a2b",
   "metadata": {},
   "outputs": [],
   "source": [
    "df.groupby('compact_raw')['reason'].value_counts()"
   ]
  },
  {
   "cell_type": "code",
   "execution_count": null,
   "id": "ee352a1a-7116-42c4-8c70-a607e5e834bb",
   "metadata": {},
   "outputs": [],
   "source": [
    "df.groupby('compact_raw')['is_training'].mean()"
   ]
  },
  {
   "cell_type": "code",
   "execution_count": null,
   "id": "e672bdf9-1331-4823-865a-a21a474c8f29",
   "metadata": {},
   "outputs": [],
   "source": [
    "not_training_reasons = df[df['not_training_reason'] != '']\n",
    "not_training_reasons.groupby('compact_raw')['not_training_reason'].value_counts()"
   ]
  },
  {
   "cell_type": "code",
   "execution_count": null,
   "id": "dda5d945-8d84-4a72-a95c-449cf080745c",
   "metadata": {},
   "outputs": [],
   "source": [
    "df['has_winner'] = ~df['winner'].isnull()\n",
    "valid = df[df['valid']]\n",
    "training = df[df['is_training'] == True]\n",
    "no_winner = training[~training['has_winner']]"
   ]
  },
  {
   "cell_type": "code",
   "execution_count": null,
   "id": "1a3c99c4-e58b-4d54-a93b-c21b72b61645",
   "metadata": {},
   "outputs": [],
   "source": [
    "training.groupby('compact_raw')['has_winner'].mean()"
   ]
  },
  {
   "cell_type": "code",
   "execution_count": null,
   "id": "36212557-cbde-434a-9da4-39028f693228",
   "metadata": {},
   "outputs": [],
   "source": [
    "import typing as tp\n",
    "import itertools\n",
    "import melee\n",
    "from slippi_ai import nametags"
   ]
  },
  {
   "cell_type": "code",
   "execution_count": null,
   "id": "56930a81-abe8-410d-a0c8-cb8e9c854313",
   "metadata": {},
   "outputs": [],
   "source": [
    "%%time\n",
    "\n",
    "def split_row(row: dict) -> tp.Iterator[dict]:\n",
    "    for player in row['players']:\n",
    "        new_row = row.copy()\n",
    "        del new_row['players']\n",
    "        new_row.update(player)\n",
    "        name = nametags.name_from_metadata(player)\n",
    "        new_row['name'] = nametags.normalize_name(name)\n",
    "        yield new_row\n",
    "\n",
    "per_player_data = []\n",
    "for row in tqdm.tqdm_notebook(data):\n",
    "    if not row['valid'] or not row['is_training']:\n",
    "        continue\n",
    "    per_player_data.extend(list(split_row(row)))\n",
    "\n",
    "per_player_df = pd.DataFrame(per_player_data)"
   ]
  },
  {
   "cell_type": "code",
   "execution_count": null,
   "id": "f685b3b9-f97e-4695-a117-cd6f420c7757",
   "metadata": {},
   "outputs": [],
   "source": [
    "def char_to_str(char: int) -> str:\n",
    "    return melee.Character(char).name\n",
    "\n",
    "per_player_df['char'] = per_player_df['character'].map(char_to_str)"
   ]
  },
  {
   "cell_type": "code",
   "execution_count": null,
   "id": "8c6391e0-32f0-4c71-8b9b-7f274733520d",
   "metadata": {},
   "outputs": [],
   "source": [
    "per_player_df['compact_raw'] = per_player_df['raw'].map(compact_raw)"
   ]
  },
  {
   "cell_type": "code",
   "execution_count": null,
   "id": "e08dbeb7-2dc1-4b15-9b0c-82b74e2b4862",
   "metadata": {},
   "outputs": [],
   "source": [
    "# per_player_df.groupby('compact_raw')['name'].value_counts()"
   ]
  },
  {
   "cell_type": "code",
   "execution_count": null,
   "id": "3dcae024-32fe-49c1-aa26-b762eddea207",
   "metadata": {},
   "outputs": [],
   "source": [
    "zain_df = per_player_df[per_player_df['name'] == 'Zain']\n",
    "zain_df['compact_raw'].value_counts()"
   ]
  },
  {
   "cell_type": "code",
   "execution_count": null,
   "id": "b22fbddf-37fb-4d66-a8e2-847b678fdddc",
   "metadata": {},
   "outputs": [],
   "source": [
    "per_player_df['netplay.name'].value_counts()"
   ]
  },
  {
   "cell_type": "code",
   "execution_count": null,
   "id": "2a7948c7-f496-450d-a007-7b2b9947887e",
   "metadata": {},
   "outputs": [],
   "source": [
    "legal_df = per_player_df[per_player_df['compact_raw'] != 'Mango']"
   ]
  },
  {
   "cell_type": "code",
   "execution_count": null,
   "id": "640a9c8c-3f2d-4d1b-9510-d1aa549fb715",
   "metadata": {},
   "outputs": [],
   "source": [
    "x = legal_df.groupby(['char', 'name']).size().reset_index(name='count')\n",
    "x = x.sort_values(by='count', ascending=False).groupby('char').head(10)"
   ]
  },
  {
   "cell_type": "code",
   "execution_count": null,
   "id": "84aebd07-a3a5-4359-a159-7396388c04ac",
   "metadata": {},
   "outputs": [],
   "source": [
    "x[x['char'] == 'YOSHI']"
   ]
  },
  {
   "cell_type": "code",
   "execution_count": null,
   "id": "472444dc-c459-4e29-9ed4-464adc5bdc7e",
   "metadata": {},
   "outputs": [],
   "source": [
    "per_player_df['char'].value_counts()"
   ]
  },
  {
   "cell_type": "code",
   "execution_count": null,
   "id": "3aff76fd-7b61-4da4-90b1-2a49a5a05c55",
   "metadata": {},
   "outputs": [],
   "source": []
  }
 ],
 "metadata": {
  "kernelspec": {
   "display_name": "Python 3 (ipykernel)",
   "language": "python",
   "name": "python3"
  },
  "language_info": {
   "codemirror_mode": {
    "name": "ipython",
    "version": 3
   },
   "file_extension": ".py",
   "mimetype": "text/x-python",
   "name": "python",
   "nbconvert_exporter": "python",
   "pygments_lexer": "ipython3",
   "version": "3.9.13"
  }
 },
 "nbformat": 4,
 "nbformat_minor": 5
}
