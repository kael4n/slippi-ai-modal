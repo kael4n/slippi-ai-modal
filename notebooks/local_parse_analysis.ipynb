{
 "cells": [
  {
   "cell_type": "code",
   "execution_count": null,
   "id": "fdf8d3ec-6440-4635-9718-4239a6075991",
   "metadata": {},
   "outputs": [],
   "source": [
    "import pickle\n",
    "import pandas as pd\n",
    "import os\n",
    "import peppi_py\n",
    "import tree\n",
    "import json\n",
    "import io\n",
    "import math\n",
    "import tqdm.notebook\n",
    "import functools\n",
    "\n",
    "from slippi_db import utils, preprocessing, parse_peppi"
   ]
  },
  {
   "cell_type": "code",
   "execution_count": null,
   "id": "93ca83d0-1b9b-4206-8926-e9349a7879ba",
   "metadata": {},
   "outputs": [],
   "source": [
    "from itables import init_notebook_mode\n",
    "init_notebook_mode(all_interactive=True)"
   ]
  },
  {
   "cell_type": "code",
   "execution_count": null,
   "id": "1d99dea6-c23d-466c-9a71-137a97557f0a",
   "metadata": {},
   "outputs": [],
   "source": [
    "root = '/linusr/vlad/SSBM/Replays/'"
   ]
  },
  {
   "cell_type": "code",
   "execution_count": null,
   "id": "096ab2e6-592a-4119-9fa3-17d9469a7d48",
   "metadata": {},
   "outputs": [],
   "source": [
    "parsed_path = os.path.join(root, 'parsed.pkl')\n",
    "\n",
    "with open(parsed_path, 'rb') as f:\n",
    "    data_bytes = f.read()\n",
    "len(data_bytes)"
   ]
  },
  {
   "cell_type": "code",
   "execution_count": null,
   "id": "6b0efa52-4dba-49f1-9028-9948df6617a3",
   "metadata": {},
   "outputs": [],
   "source": [
    "%%time\n",
    "data = pickle.loads(data_bytes)\n",
    "del data_bytes\n",
    "len(data)"
   ]
  },
  {
   "cell_type": "code",
   "execution_count": null,
   "id": "77b5bdb8-452d-4129-a00f-96c34790d4ea",
   "metadata": {},
   "outputs": [],
   "source": [
    "# %%time\n",
    "# data_json = json.dumps(data)\n",
    "# len(data_json)"
   ]
  },
  {
   "cell_type": "code",
   "execution_count": null,
   "id": "e8e05316-b3d7-4c60-8657-4c3b63ddfdae",
   "metadata": {},
   "outputs": [],
   "source": [
    "# %%time\n",
    "# json.loads(data_json);"
   ]
  },
  {
   "cell_type": "code",
   "execution_count": null,
   "id": "b500fc91-8d4c-4164-affd-864710bb5d8a",
   "metadata": {},
   "outputs": [],
   "source": [
    "df = pd.DataFrame(data)"
   ]
  },
  {
   "cell_type": "code",
   "execution_count": null,
   "id": "643354bf-c04c-45be-9096-2ccbb48d22d7",
   "metadata": {},
   "outputs": [],
   "source": [
    "@functools.cache\n",
    "def compact_raw(raw: str) -> str:\n",
    "    if raw.startswith('Players/'):\n",
    "        return raw.split('/')[1]\n",
    "    return raw\n",
    "\n",
    "df['compact_raw'] = df['raw'].map(compact_raw)"
   ]
  },
  {
   "cell_type": "code",
   "execution_count": null,
   "id": "087d5d29-b379-46d4-84d2-4a18c9760a2b",
   "metadata": {},
   "outputs": [],
   "source": [
    "df.groupby('compact_raw')['reason'].value_counts()"
   ]
  },
  {
   "cell_type": "code",
   "execution_count": null,
   "id": "ee352a1a-7116-42c4-8c70-a607e5e834bb",
   "metadata": {},
   "outputs": [],
   "source": [
    "df.groupby('compact_raw')['is_training'].mean()"
   ]
  },
  {
   "cell_type": "code",
   "execution_count": null,
   "id": "2a82e050-0bb3-4449-a02f-468f0da84a36",
   "metadata": {},
   "outputs": [],
   "source": [
    "not_valid_reasons = df[~df['valid']]\n",
    "not_training_reasons.groupby('compact_raw')['reason'].value_counts()"
   ]
  },
  {
   "cell_type": "code",
   "execution_count": null,
   "id": "e672bdf9-1331-4823-865a-a21a474c8f29",
   "metadata": {},
   "outputs": [],
   "source": [
    "not_training_reasons = df[df['not_training_reason'] != '']\n",
    "not_training_reasons.groupby('compact_raw')['not_training_reason'].value_counts()"
   ]
  },
  {
   "cell_type": "code",
   "execution_count": null,
   "id": "dda5d945-8d84-4a72-a95c-449cf080745c",
   "metadata": {},
   "outputs": [],
   "source": [
    "df['has_winner'] = ~df['winner'].isnull()\n",
    "valid = df[df['valid']]\n",
    "training = df[df['is_training'] == True]\n",
    "no_winner = training[~training['has_winner']]"
   ]
  },
  {
   "cell_type": "code",
   "execution_count": null,
   "id": "1a3c99c4-e58b-4d54-a93b-c21b72b61645",
   "metadata": {},
   "outputs": [],
   "source": [
    "training.groupby('compact_raw')['has_winner'].mean()"
   ]
  },
  {
   "cell_type": "code",
   "execution_count": null,
   "id": "36212557-cbde-434a-9da4-39028f693228",
   "metadata": {},
   "outputs": [],
   "source": [
    "import typing as tp\n",
    "import itertools\n",
    "import melee\n",
    "from slippi_ai import nametags"
   ]
  },
  {
   "cell_type": "code",
   "execution_count": null,
   "id": "56930a81-abe8-410d-a0c8-cb8e9c854313",
   "metadata": {},
   "outputs": [],
   "source": [
    "def split_row(row: dict) -> tp.Iterator[dict]:\n",
    "    for player in row['players']:\n",
    "        new_row = row.copy()\n",
    "        del new_row['players']\n",
    "        new_row.update(player)\n",
    "        name = nametags.name_from_metadata(player)\n",
    "        new_row['name'] = nametags.normalize_name(name)\n",
    "\n",
    "        new_row['char'] = char_to_str(player['character'])\n",
    "        new_row['compact_raw'] = compact_raw(row['raw'])\n",
    "        yield new_row\n",
    "\n",
    "def char_to_str(char: int) -> str:\n",
    "    return melee.Character(char).name\n",
    "\n",
    "def make_per_player_df(rows):\n",
    "    per_player_data = []\n",
    "    for row in tqdm.notebook.tqdm(rows):\n",
    "        if not row['valid'] or not row['is_training']:\n",
    "            continue\n",
    "        per_player_data.extend(list(split_row(row)))\n",
    "    \n",
    "    return pd.DataFrame(per_player_data)"
   ]
  },
  {
   "cell_type": "code",
   "execution_count": null,
   "id": "f685b3b9-f97e-4695-a117-cd6f420c7757",
   "metadata": {},
   "outputs": [],
   "source": [
    "%%time\n",
    "per_player_df = make_per_player_df(data)"
   ]
  },
  {
   "cell_type": "code",
   "execution_count": null,
   "id": "e08dbeb7-2dc1-4b15-9b0c-82b74e2b4862",
   "metadata": {},
   "outputs": [],
   "source": [
    "# per_player_df.groupby('compact_raw')['name'].value_counts()"
   ]
  },
  {
   "cell_type": "code",
   "execution_count": null,
   "id": "3dcae024-32fe-49c1-aa26-b762eddea207",
   "metadata": {},
   "outputs": [],
   "source": [
    "zain_df = per_player_df[per_player_df['name'] == 'Zain']\n",
    "zain_df['compact_raw'].value_counts()"
   ]
  },
  {
   "cell_type": "code",
   "execution_count": null,
   "id": "607aad44-d415-4c88-b11f-5ffd8ed93155",
   "metadata": {},
   "outputs": [],
   "source": [
    "per_player_df['blank_name'] = per_player_df['name'] == ''"
   ]
  },
  {
   "cell_type": "code",
   "execution_count": null,
   "id": "79122641-8ad8-499a-a605-047ad03add4f",
   "metadata": {},
   "outputs": [],
   "source": [
    "def is_player(raw):\n",
    "    return raw.startswith('Players')\n",
    "\n",
    "player_df = per_player_df[per_player_df['raw'].map(is_player)]\n",
    "len(player_df)"
   ]
  },
  {
   "cell_type": "code",
   "execution_count": null,
   "id": "c60d4c68-3e21-4946-af68-bd88f5e37a76",
   "metadata": {},
   "outputs": [],
   "source": [
    "player_df.groupby('compact_raw')['blank_name'].mean()"
   ]
  },
  {
   "cell_type": "code",
   "execution_count": null,
   "id": "c6a80eb0-e377-4039-9bf7-680a187548d0",
   "metadata": {},
   "outputs": [],
   "source": [
    "per_player_df['name'].value_counts()"
   ]
  },
  {
   "cell_type": "code",
   "execution_count": null,
   "id": "2a7948c7-f496-450d-a007-7b2b9947887e",
   "metadata": {},
   "outputs": [],
   "source": [
    "per_player_df['banned'] = per_player_df['name'].map(nametags.is_banned_name)\n",
    "legal_df = per_player_df[~per_player_df['banned']]"
   ]
  },
  {
   "cell_type": "code",
   "execution_count": null,
   "id": "640a9c8c-3f2d-4d1b-9510-d1aa549fb715",
   "metadata": {},
   "outputs": [],
   "source": [
    "by_char_name = legal_df.groupby(['char', 'name']).size().reset_index(name='count').sort_values(by='count', ascending=False)"
   ]
  },
  {
   "cell_type": "code",
   "execution_count": null,
   "id": "15180d4b-9573-43e7-a568-e01715a99596",
   "metadata": {},
   "outputs": [],
   "source": [
    "x = by_char_name\n",
    "x[x['char'] == 'MARTH']"
   ]
  },
  {
   "cell_type": "code",
   "execution_count": null,
   "id": "b7377f10-056a-4f6f-b88c-84541c2ceb7d",
   "metadata": {},
   "outputs": [],
   "source": [
    "kodo = per_player_df[per_player_df['compact_raw'] == 'KoDoRiN']"
   ]
  },
  {
   "cell_type": "code",
   "execution_count": null,
   "id": "20237894-4816-434f-bd37-d1612e4c321d",
   "metadata": {},
   "outputs": [],
   "source": [
    "kodo[kodo['name'] == '8#9']['char'].value_counts()"
   ]
  },
  {
   "cell_type": "code",
   "execution_count": null,
   "id": "68f5e92c-60af-4b2f-9d35-f7f3fa9557a7",
   "metadata": {},
   "outputs": [],
   "source": [
    "mango = per_player_df[per_player_df['compact_raw'] == 'Mango']\n",
    "len(mango)"
   ]
  },
  {
   "cell_type": "code",
   "execution_count": null,
   "id": "e18a18bf-4aba-4a2e-98e5-f54f3615f1bf",
   "metadata": {},
   "outputs": [],
   "source": [
    "mango['name'].value_counts()"
   ]
  },
  {
   "cell_type": "code",
   "execution_count": null,
   "id": "6d3efbae-f8a3-4165-b336-b0e8688ff9dd",
   "metadata": {},
   "outputs": [],
   "source": [
    "df.keys()"
   ]
  },
  {
   "cell_type": "code",
   "execution_count": null,
   "id": "e410f301-6f08-4b8c-922b-39719174d4ef",
   "metadata": {},
   "outputs": [],
   "source": [
    "kodo_df = df[df['compact_raw'] == 'KoDoRiN']\n",
    "len(kodo_df)"
   ]
  },
  {
   "cell_type": "code",
   "execution_count": null,
   "id": "667a3a06-8456-44f2-b9b2-aac8b28b4d1c",
   "metadata": {},
   "outputs": [],
   "source": [
    "kodo_df['not_training_reason'].value_counts()"
   ]
  },
  {
   "cell_type": "code",
   "execution_count": null,
   "id": "daf2f634-7281-4a52-9138-7192e1762066",
   "metadata": {},
   "outputs": [],
   "source": [
    "kodo_df['slippi_version'].value_counts()"
   ]
  },
  {
   "cell_type": "code",
   "execution_count": null,
   "id": "a765eba0-042d-46f5-8af6-2a27d8a4a760",
   "metadata": {},
   "outputs": [],
   "source": [
    "df[df['compact_raw'] == 'Mango']['slippi_version'].value_counts()"
   ]
  },
  {
   "cell_type": "code",
   "execution_count": null,
   "id": "08571a82-6ced-487b-941a-d018a1ec7f5d",
   "metadata": {},
   "outputs": [],
   "source": []
  }
 ],
 "metadata": {
  "kernelspec": {
   "display_name": "Python 3 (ipykernel)",
   "language": "python",
   "name": "python3"
  },
  "language_info": {
   "codemirror_mode": {
    "name": "ipython",
    "version": 3
   },
   "file_extension": ".py",
   "mimetype": "text/x-python",
   "name": "python",
   "nbconvert_exporter": "python",
   "pygments_lexer": "ipython3",
   "version": "3.10.12"
  }
 },
 "nbformat": 4,
 "nbformat_minor": 5
}
