{
 "cells": [
  {
   "cell_type": "code",
   "execution_count": null,
   "id": "fdf8d3ec-6440-4635-9718-4239a6075991",
   "metadata": {},
   "outputs": [],
   "source": [
    "import collections\n",
    "import pickle\n",
    "import pandas as pd\n",
    "import os\n",
    "import peppi_py\n",
    "import tree\n",
    "import json\n",
    "import io\n",
    "import math\n",
    "import tqdm.notebook\n",
    "import functools\n",
    "import zipfile\n",
    "\n",
    "from slippi_db import utils, preprocessing, parse_peppi"
   ]
  },
  {
   "cell_type": "code",
   "execution_count": null,
   "id": "93ca83d0-1b9b-4206-8926-e9349a7879ba",
   "metadata": {},
   "outputs": [],
   "source": [
    "from itables import init_notebook_mode\n",
    "init_notebook_mode(all_interactive=True)"
   ]
  },
  {
   "cell_type": "code",
   "execution_count": null,
   "id": "1d99dea6-c23d-466c-9a71-137a97557f0a",
   "metadata": {},
   "outputs": [],
   "source": [
    "root = '/linusr/vlad/SSBM/Replays'"
   ]
  },
  {
   "cell_type": "code",
   "execution_count": null,
   "id": "096ab2e6-592a-4119-9fa3-17d9469a7d48",
   "metadata": {},
   "outputs": [],
   "source": [
    "parsed_path = os.path.join(root, 'parsed.pkl')\n",
    "\n",
    "with open(parsed_path, 'rb') as f:\n",
    "    data_bytes = f.read()\n",
    "len(data_bytes)"
   ]
  },
  {
   "cell_type": "code",
   "execution_count": null,
   "id": "6b0efa52-4dba-49f1-9028-9948df6617a3",
   "metadata": {},
   "outputs": [],
   "source": [
    "%%time\n",
    "data = pickle.loads(data_bytes)\n",
    "del data_bytes\n",
    "len(data)"
   ]
  },
  {
   "cell_type": "code",
   "execution_count": null,
   "id": "b500fc91-8d4c-4164-affd-864710bb5d8a",
   "metadata": {},
   "outputs": [],
   "source": [
    "df = pd.DataFrame(data)"
   ]
  },
  {
   "cell_type": "code",
   "execution_count": null,
   "id": "643354bf-c04c-45be-9096-2ccbb48d22d7",
   "metadata": {},
   "outputs": [],
   "source": [
    "@functools.cache\n",
    "def compact_raw(raw: str) -> str:\n",
    "    if raw.startswith('Players/'):\n",
    "        return raw.split('/')[1]\n",
    "    if raw.startswith('Phillip/'):\n",
    "        return 'Phillip'\n",
    "    return raw\n",
    "\n",
    "df['compact_raw'] = df['raw'].map(compact_raw)"
   ]
  },
  {
   "cell_type": "code",
   "execution_count": null,
   "id": "3373e00c-d1b9-4077-aead-ce78bff413d1",
   "metadata": {},
   "outputs": [],
   "source": [
    "@functools.cache\n",
    "def raw_exists(raw: str) -> bool:\n",
    "    if not raw.endswith('.zip'):\n",
    "        return False\n",
    "    return os.path.exists(os.path.join(root, 'Raw', raw))\n",
    "\n",
    "df['raw_exists'] = df['raw'].map(raw_exists)"
   ]
  },
  {
   "cell_type": "code",
   "execution_count": null,
   "id": "d46033b5-0670-48eb-9b33-e44edf399035",
   "metadata": {},
   "outputs": [],
   "source": [
    "def get_files_in_zip(path: str) -> list[str]:\n",
    "    filenames = []\n",
    "    with zipfile.ZipFile(path, mode='r') as zf:\n",
    "        for info in zf.infolist():\n",
    "            if info.is_dir():\n",
    "                continue\n",
    "            filenames.append(info.filename)\n",
    "    return set(filenames)"
   ]
  },
  {
   "cell_type": "code",
   "execution_count": null,
   "id": "1ce0467c-3d15-47cb-9c93-9556d84903a8",
   "metadata": {},
   "outputs": [],
   "source": [
    "raw_to_files = {}\n",
    "for raw in tqdm.notebook.tqdm(set(df['raw'])):\n",
    "    if not raw.endswith('.zip'):\n",
    "        continue\n",
    "    if not raw_exists(raw):\n",
    "        continue\n",
    "\n",
    "    raw_to_files[raw] = get_files_in_zip(os.path.join(root, 'Raw', raw))"
   ]
  },
  {
   "cell_type": "code",
   "execution_count": null,
   "id": "46fc9247-c137-41f2-be44-a77c44c8c260",
   "metadata": {},
   "outputs": [],
   "source": [
    "missing_files = {}\n",
    "\n",
    "for raw, name in zip(df['raw'], df['name']):\n",
    "    if raw not in raw_to_files:\n",
    "        continue\n",
    "    if name not in raw_to_files[raw]:\n",
    "        missing_files.setdefault(raw, []).append(name)\n",
    "\n",
    "assert not missing_files"
   ]
  },
  {
   "cell_type": "code",
   "execution_count": null,
   "id": "aa976e50-0fff-49ef-917c-ca28cc6e7e14",
   "metadata": {},
   "outputs": [],
   "source": [
    "file_to_raw = {}\n",
    "for raw, files in raw_to_files.items():\n",
    "    for f in files:\n",
    "        # File could be in two different dumps, one for each player\n",
    "        file_to_raw[f] = raw"
   ]
  },
  {
   "cell_type": "code",
   "execution_count": null,
   "id": "a3b48857-f7f4-48cb-b358-f17d36dbe1e4",
   "metadata": {},
   "outputs": [],
   "source": [
    "# Fix bad raws.\n",
    "# Could be slightly wrong for files that exist in multiple raws,\n",
    "# which may be slightly different due to different rollback frames.\n",
    "\n",
    "for row in data:\n",
    "    raw = row['raw']\n",
    "    if raw not in raw_to_files:\n",
    "        continue\n",
    "    name = row['name']\n",
    "    if name not in raw_to_files[raw]:\n",
    "        row['raw'] = file_to_raw[name]"
   ]
  },
  {
   "cell_type": "code",
   "execution_count": null,
   "id": "ee961b26-ce6a-47c4-8fe8-39840423cdd4",
   "metadata": {},
   "outputs": [],
   "source": [
    "# %%time\n",
    "\n",
    "# with open(os.path.join(root, 'parsed.pkl'), 'wb') as f:\n",
    "#     pickle.dump(data, f)"
   ]
  },
  {
   "cell_type": "code",
   "execution_count": null,
   "id": "0d184d84-4ccf-4d52-bf2b-2a5b4efc8814",
   "metadata": {},
   "outputs": [],
   "source": [
    "valid = df[df['valid']]\n",
    "training = valid[valid['is_training']]\n",
    "len(training)"
   ]
  },
  {
   "cell_type": "code",
   "execution_count": null,
   "id": "861e3a13-e8ff-4000-8c08-e3de12f8a701",
   "metadata": {},
   "outputs": [],
   "source": [
    "training_with_raw = training[training['raw_exists']]\n",
    "len(training_with_raw)"
   ]
  },
  {
   "cell_type": "code",
   "execution_count": null,
   "id": "8a362d37-1779-4ecf-975a-67ec3f58c6ea",
   "metadata": {},
   "outputs": [],
   "source": [
    "for_test_dataset = training_with_raw.groupby('raw').tail(50).reset_index()\n",
    "size = len(for_test_dataset)\n",
    "size"
   ]
  },
  {
   "cell_type": "code",
   "execution_count": null,
   "id": "4f1031de-10eb-48dd-ac74-b7d481dc75a5",
   "metadata": {},
   "outputs": [],
   "source": [
    "files_to_copy = {}\n",
    "for raw, filename in zip(for_test_dataset['raw'], for_test_dataset['name']):\n",
    "    files_to_copy.setdefault(raw, []).append(filename)"
   ]
  },
  {
   "cell_type": "code",
   "execution_count": null,
   "id": "c1549166-8bc8-4362-bddc-13c29cde7a85",
   "metadata": {
    "jupyter": {
     "outputs_hidden": true
    }
   },
   "outputs": [],
   "source": [
    "dest_zip = os.path.join(root, f'TestDataset-{size}.zip')\n",
    "\n",
    "if os.path.exists(dest_zip):\n",
    "    os.remove(dest_zip)\n",
    "\n",
    "sources_and_files = [\n",
    "    (os.path.join(root, 'Raw', raw), filenames)\n",
    "    for raw, filenames in files_to_copy.items()\n",
    "]\n",
    "\n",
    "utils.copy_multi_zip_files(sources_and_files, dest_zip)"
   ]
  },
  {
   "cell_type": "code",
   "execution_count": null,
   "id": "ca75b055-c269-4e97-ae7b-05d4ca521235",
   "metadata": {},
   "outputs": [],
   "source": [
    "all_raw = set(df['raw'])"
   ]
  },
  {
   "cell_type": "code",
   "execution_count": null,
   "id": "3ef97d5c-39cc-4b69-9d98-45059758c726",
   "metadata": {},
   "outputs": [],
   "source": [
    "player_raws = {}\n",
    "for raw in all_raw:\n",
    "    if not raw.startswith('Players/'):\n",
    "        continue\n",
    "    player = raw.split('/')[1]\n",
    "    player_raws.setdefault(player, []).append(raw)\n",
    "\n",
    "\n",
    "print(','.join(sorted(player_raws.keys())))"
   ]
  },
  {
   "cell_type": "code",
   "execution_count": null,
   "id": "33a659da-f9a6-4f1e-806e-a3faae795503",
   "metadata": {},
   "outputs": [],
   "source": []
  }
 ],
 "metadata": {
  "kernelspec": {
   "display_name": "Python 3 (ipykernel)",
   "language": "python",
   "name": "python3"
  },
  "language_info": {
   "codemirror_mode": {
    "name": "ipython",
    "version": 3
   },
   "file_extension": ".py",
   "mimetype": "text/x-python",
   "name": "python",
   "nbconvert_exporter": "python",
   "pygments_lexer": "ipython3",
   "version": "3.10.12"
  }
 },
 "nbformat": 4,
 "nbformat_minor": 5
}
