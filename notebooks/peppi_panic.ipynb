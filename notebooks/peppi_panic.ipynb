{
 "cells": [
  {
   "cell_type": "code",
   "execution_count": null,
   "id": "5041ce98-a30f-413b-adc9-e9c831f83354",
   "metadata": {},
   "outputs": [],
   "source": [
    "import pickle\n",
    "import os\n",
    "import pandas as pd"
   ]
  },
  {
   "cell_type": "code",
   "execution_count": null,
   "id": "4678b894-a3ef-48ad-b59d-cb8184187e96",
   "metadata": {},
   "outputs": [],
   "source": [
    "root = '/Users/vlad/SSBM/Replays/Test/'"
   ]
  },
  {
   "cell_type": "code",
   "execution_count": null,
   "id": "51187b54-7248-4e02-83cc-516ef54baec2",
   "metadata": {},
   "outputs": [],
   "source": [
    "with open(os.path.join(root, 'parsed.pkl'), 'rb') as f:\n",
    "    db = pickle.load(f)"
   ]
  },
  {
   "cell_type": "code",
   "execution_count": null,
   "id": "2a0f8462-c516-476f-a627-f651ab2e1ade",
   "metadata": {},
   "outputs": [],
   "source": [
    "df = pd.DataFrame(db)"
   ]
  },
  {
   "cell_type": "code",
   "execution_count": null,
   "id": "5f303d84-eb1d-47a3-9a82-b2ba1227b6bd",
   "metadata": {},
   "outputs": [],
   "source": [
    "df.keys()"
   ]
  },
  {
   "cell_type": "code",
   "execution_count": null,
   "id": "b5092aea-e865-4033-9b91-f379224ba8c7",
   "metadata": {},
   "outputs": [],
   "source": [
    "invalid = df[df['valid'] == False]"
   ]
  },
  {
   "cell_type": "code",
   "execution_count": null,
   "id": "b5cdd617-3a6d-4a34-a8f1-0654558f2c5d",
   "metadata": {},
   "outputs": [],
   "source": [
    "invalid['reason'].value_counts()"
   ]
  },
  {
   "cell_type": "code",
   "execution_count": null,
   "id": "7e3d37e9-24ef-446f-9134-9a149f38a93d",
   "metadata": {},
   "outputs": [],
   "source": [
    "called = invalid[invalid['reason'].map(lambda s: s.startswith('called'))]"
   ]
  },
  {
   "cell_type": "code",
   "execution_count": null,
   "id": "1f74bb47-ad91-4679-bc78-97ffafb3320e",
   "metadata": {},
   "outputs": [],
   "source": [
    "called = called.dropna(axis=1)\n",
    "called"
   ]
  },
  {
   "cell_type": "code",
   "execution_count": null,
   "id": "8335d132-0b07-4be7-977e-2b11627438f6",
   "metadata": {},
   "outputs": [],
   "source": [
    "out = 'data/panic'\n",
    "os.makedirs(out, exist_ok=True)"
   ]
  },
  {
   "cell_type": "code",
   "execution_count": null,
   "id": "04eab592-8dc3-461c-9a31-ddc16faef622",
   "metadata": {},
   "outputs": [],
   "source": [
    "raw = os.path.join(root, 'Raw/Summit-004.zip')\n",
    "assert os.path.exists(raw)"
   ]
  },
  {
   "cell_type": "code",
   "execution_count": null,
   "id": "b555fb8d-3783-4cc2-8256-cb0e814ccaf2",
   "metadata": {},
   "outputs": [],
   "source": [
    "from slippi_db import utils\n",
    "import subprocess"
   ]
  },
  {
   "cell_type": "code",
   "execution_count": null,
   "id": "32bc396e-979a-4a66-9832-5887e7b8f7a0",
   "metadata": {},
   "outputs": [],
   "source": [
    "for name in called['name']:\n",
    "    subprocess.check_call(\n",
    "        ['unzip', raw, name, '-d', out],\n",
    "        stdout=subprocess.DEVNULL)\n",
    "    # zf = utils.ZipFile(raw, name)\n",
    "    # with open(os.path.join(out, name), 'wb') as f:\n",
    "    #     f.write(zf.read())"
   ]
  },
  {
   "cell_type": "code",
   "execution_count": null,
   "id": "b6cca251-0cc0-48f0-8ef3-7d0c5747f110",
   "metadata": {},
   "outputs": [],
   "source": [
    "called['name'].iat[0]"
   ]
  },
  {
   "cell_type": "code",
   "execution_count": null,
   "id": "50b23575-1f36-4ed3-8d30-533d3e9194cd",
   "metadata": {},
   "outputs": [],
   "source": []
  }
 ],
 "metadata": {
  "kernelspec": {
   "display_name": "Python 3 (ipykernel)",
   "language": "python",
   "name": "python3"
  },
  "language_info": {
   "codemirror_mode": {
    "name": "ipython",
    "version": 3
   },
   "file_extension": ".py",
   "mimetype": "text/x-python",
   "name": "python",
   "nbconvert_exporter": "python",
   "pygments_lexer": "ipython3",
   "version": "3.9.13"
  }
 },
 "nbformat": 4,
 "nbformat_minor": 5
}
