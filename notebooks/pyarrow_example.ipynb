{
 "cells": [
  {
   "cell_type": "code",
   "execution_count": null,
   "id": "8c626cc4",
   "metadata": {},
   "outputs": [],
   "source": [
    "import pandas as pd"
   ]
  },
  {
   "cell_type": "code",
   "execution_count": null,
   "id": "0120fc2b",
   "metadata": {},
   "outputs": [],
   "source": [
    "df = pd.read_parquet('../data/pq/meta.pq')"
   ]
  },
  {
   "cell_type": "code",
   "execution_count": null,
   "id": "41bb54aa",
   "metadata": {},
   "outputs": [],
   "source": [
    "len(df)"
   ]
  },
  {
   "cell_type": "code",
   "execution_count": null,
   "id": "8d7e61ba",
   "metadata": {},
   "outputs": [],
   "source": [
    "list(df.columns)"
   ]
  },
  {
   "cell_type": "code",
   "execution_count": null,
   "id": "1e290568",
   "metadata": {},
   "outputs": [],
   "source": [
    "import pyarrow as pa\n",
    "import pyarrow.parquet as pq"
   ]
  },
  {
   "cell_type": "code",
   "execution_count": null,
   "id": "e3d3d33a",
   "metadata": {},
   "outputs": [],
   "source": [
    "table = pq.read_table('../data/untracked/test_pq/games/00b1538e10a03889502867dec3bcd61b')"
   ]
  },
  {
   "cell_type": "code",
   "execution_count": null,
   "id": "890bfdee",
   "metadata": {},
   "outputs": [],
   "source": [
    "game_pa = table['root'].combine_chunks()"
   ]
  },
  {
   "cell_type": "code",
   "execution_count": null,
   "id": "e4c11432",
   "metadata": {},
   "outputs": [],
   "source": [
    "g0 = game_pa[0]"
   ]
  },
  {
   "cell_type": "code",
   "execution_count": null,
   "id": "bfcc6d4f",
   "metadata": {},
   "outputs": [],
   "source": [
    "g0.as_py()"
   ]
  },
  {
   "cell_type": "code",
   "execution_count": null,
   "id": "ab8a9556",
   "metadata": {},
   "outputs": [],
   "source": []
  }
 ],
 "metadata": {
  "kernelspec": {
   "display_name": "Python 3 (ipykernel)",
   "language": "python",
   "name": "python3"
  },
  "language_info": {
   "codemirror_mode": {
    "name": "ipython",
    "version": 3
   },
   "file_extension": ".py",
   "mimetype": "text/x-python",
   "name": "python",
   "nbconvert_exporter": "python",
   "pygments_lexer": "ipython3",
   "version": "3.9.12"
  }
 },
 "nbformat": 4,
 "nbformat_minor": 5
}
