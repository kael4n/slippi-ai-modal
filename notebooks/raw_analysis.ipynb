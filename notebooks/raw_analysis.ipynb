{
 "cells": [
  {
   "cell_type": "code",
   "execution_count": null,
   "id": "7e15a5d0",
   "metadata": {},
   "outputs": [],
   "source": [
    "import pandas as pd\n",
    "from slippi_db import upload_lib"
   ]
  },
  {
   "cell_type": "code",
   "execution_count": null,
   "id": "1c56eeb3",
   "metadata": {},
   "outputs": [],
   "source": [
    "from itables import init_notebook_mode\n",
    "init_notebook_mode(all_interactive=True)"
   ]
  },
  {
   "cell_type": "code",
   "execution_count": null,
   "id": "74e2a298",
   "metadata": {},
   "outputs": [],
   "source": [
    "prod_raw = list(upload_lib.get_db('prod', 'raw').find())\n",
    "prod_raw_df = pd.DataFrame(prod_raw)"
   ]
  },
  {
   "cell_type": "code",
   "execution_count": null,
   "id": "7e3c3503",
   "metadata": {},
   "outputs": [],
   "source": [
    "total = prod_raw_df['stored_size'].sum()\n",
    "prod_raw_df['fraction'] = prod_raw_df['stored_size'] / total"
   ]
  },
  {
   "cell_type": "code",
   "execution_count": null,
   "id": "24ce8fac",
   "metadata": {},
   "outputs": [],
   "source": [
    "keys = ['filename', 'description', 'stored_size', 'fraction']"
   ]
  },
  {
   "cell_type": "code",
   "execution_count": null,
   "id": "91a7803f",
   "metadata": {},
   "outputs": [],
   "source": [
    "df = prod_raw_df[keys]"
   ]
  },
  {
   "cell_type": "code",
   "execution_count": null,
   "id": "42a13ebe",
   "metadata": {},
   "outputs": [],
   "source": [
    "df.sort_values(by='stored_size', ascending=False)"
   ]
  },
  {
   "cell_type": "code",
   "execution_count": null,
   "id": "4acc0f2a",
   "metadata": {},
   "outputs": [],
   "source": []
  }
 ],
 "metadata": {
  "kernelspec": {
   "display_name": "Python 3 (ipykernel)",
   "language": "python",
   "name": "python3"
  },
  "language_info": {
   "codemirror_mode": {
    "name": "ipython",
    "version": 3
   },
   "file_extension": ".py",
   "mimetype": "text/x-python",
   "name": "python",
   "nbconvert_exporter": "python",
   "pygments_lexer": "ipython3",
   "version": "3.9.15"
  }
 },
 "nbformat": 4,
 "nbformat_minor": 5
}
